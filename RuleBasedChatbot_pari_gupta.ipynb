{
  "nbformat": 4,
  "nbformat_minor": 0,
  "metadata": {
    "colab": {
      "provenance": []
    },
    "kernelspec": {
      "name": "python3",
      "display_name": "Python 3"
    },
    "language_info": {
      "name": "python"
    }
  },
  "cells": [
    {
      "cell_type": "markdown",
      "source": [
        "# **TASK-1**\n",
        "### **CHATBOT WITH RULE-BASED RESPONSES**"
      ],
      "metadata": {
        "id": "SugMzoakOHMR"
      }
    },
    {
      "cell_type": "markdown",
      "source": [
        "**1. Installing Necessary Libraries**\n",
        "\n",
        "First we need to install the NLTK library which will help us with text processing tasks such as tokenization and part-of-speech tagging.\n",
        "\n",
        "You can install the NLTK library using the following command:"
      ],
      "metadata": {
        "id": "pi4DaB5tAdxe"
      }
    },
    {
      "cell_type": "code",
      "execution_count": null,
      "metadata": {
        "colab": {
          "base_uri": "https://localhost:8080/"
        },
        "id": "1nfUsYix_J0G",
        "outputId": "184fc307-8585-447f-c923-a60330817c04"
      },
      "outputs": [
        {
          "output_type": "stream",
          "name": "stdout",
          "text": [
            "Requirement already satisfied: nltk in /usr/local/lib/python3.11/dist-packages (3.9.1)\n",
            "Requirement already satisfied: click in /usr/local/lib/python3.11/dist-packages (from nltk) (8.2.1)\n",
            "Requirement already satisfied: joblib in /usr/local/lib/python3.11/dist-packages (from nltk) (1.5.1)\n",
            "Requirement already satisfied: regex>=2021.8.3 in /usr/local/lib/python3.11/dist-packages (from nltk) (2024.11.6)\n",
            "Requirement already satisfied: tqdm in /usr/local/lib/python3.11/dist-packages (from nltk) (4.67.1)\n"
          ]
        }
      ],
      "source": [
        "pip install nltk"
      ]
    },
    {
      "cell_type": "markdown",
      "source": [
        "**2. Importing Required Libraries**\n",
        "\n",
        "Once the libraries are installed, the next step is to import the necessary Python modules.\n",
        "\n",
        "**re**: Used for regular expressions which help in matching patterns in user input.\n",
        "\n",
        "**Chat**: A class from NLTK used to build rule-based chatbots.\n",
        "reflections: A dictionary to map pronouns.\n",
        "\n",
        "For example, \"I\" → \"you\" making conversations more natural.\n",
        "\n",
        "\n",
        "\n"
      ],
      "metadata": {
        "id": "_lEBdVh5Ax6A"
      }
    },
    {
      "cell_type": "code",
      "source": [
        "import nltk\n",
        "import re\n",
        "from nltk.chat.util import Chat, reflections"
      ],
      "metadata": {
        "id": "lTBysL9s_hbe"
      },
      "execution_count": null,
      "outputs": []
    },
    {
      "cell_type": "markdown",
      "source": [
        "**3. Downloading NLTK Datasets**\n",
        "\n",
        "Before proceeding we need to download specific NLTK datasets required for tokenization and part-of-speech (PoS) tagging.\n",
        "\n",
        "**punkt**: Used for tokenization which breaking down text into words or sentences.\n",
        "\n",
        "**averaged_perceptron_tagger**: PoS tagger helps to identify the grammatical parts of speech in a sentence.\n",
        "\n",
        "\n",
        "\n"
      ],
      "metadata": {
        "id": "0mZfp80GBMCg"
      }
    },
    {
      "cell_type": "code",
      "source": [
        "nltk.download('punkt')\n",
        "nltk.download('averaged_perceptron_tagger')"
      ],
      "metadata": {
        "colab": {
          "base_uri": "https://localhost:8080/"
        },
        "id": "gNmVKLdo_rgm",
        "outputId": "d5a6df37-e8f3-4197-9f3b-6d2a6081c776"
      },
      "execution_count": null,
      "outputs": [
        {
          "output_type": "stream",
          "name": "stderr",
          "text": [
            "[nltk_data] Downloading package punkt to /root/nltk_data...\n",
            "[nltk_data]   Unzipping tokenizers/punkt.zip.\n",
            "[nltk_data] Downloading package averaged_perceptron_tagger to\n",
            "[nltk_data]     /root/nltk_data...\n",
            "[nltk_data]   Unzipping taggers/averaged_perceptron_tagger.zip.\n"
          ]
        },
        {
          "output_type": "execute_result",
          "data": {
            "text/plain": [
              "True"
            ]
          },
          "metadata": {},
          "execution_count": 5
        }
      ]
    },
    {
      "cell_type": "markdown",
      "source": [
        "**4. Defining Patterns and Responses**\n",
        "\n",
        "Rule-based chatbot recognize patterns in user input and respond accordingly. Here we will define a list of patterns and respective responses that the chatbot will use to interact with users. These patterns are written using regular expressions which allow the chatbot to match complex user queries and provide relevant responses.\n",
        "\n",
        "**Pattern Matching**: The regular expressions (RegEx) here match user input.\n",
        "\n",
        "For example r\"hi|hello|hey\" matches greetings.\n",
        "\n",
        "**Responses**: Each pattern has an associated list of responses which the chatbot will choose from."
      ],
      "metadata": {
        "id": "guoBLjsfBMsU"
      }
    },
    {
      "cell_type": "code",
      "source": [
        "pairs = [\n",
        "    [r\"hi|hello|hey\", [\"Hello! How can I help you today?\", \"Hi there! How may I assist you?\"]],\n",
        "    [r\"my name is (.*)\", [\"Hello %1! How can I assist you today?\"]],\n",
        "    [r\"(.*) your name?\", [\"I am your friendly chatbot!\"]],\n",
        "    [r\"how are you?\", [\"I'm just a bot, but I'm doing well. How about you?\"]],\n",
        "    [r\"tell me a joke\", [\"Why don't skeletons fight each other? They don't have the guts!\"]],\n",
        "    [r\"(.*) (help|assist) (.*)\", [\"Sure! How can I assist you with %3?\"]],\n",
        "    [r\"bye|exit\", [\"Goodbye! Have a great day!\", \"See you later!\"]],\n",
        "    [r\"(.*)\", [\"I'm sorry, I didn't understand that. Could you rephrase?\", \"Could you please elaborate?\"]]\n",
        "]"
      ],
      "metadata": {
        "id": "5Hm9vJUaADj-"
      },
      "execution_count": null,
      "outputs": []
    },
    {
      "cell_type": "markdown",
      "source": [
        "**5. Defining the Chatbot Class**\n",
        "\n",
        "Now, let’s create a class to handle the chatbot’s functionality. This class will use the Chat object from NLTK to match patterns and generate responses.\n",
        "\n",
        "**Chat Object**: The Chat class is initialized with the patterns and reflections. It handles the matching of patterns to the user input and returns the corresponding response.\n",
        "\n",
        "**respond() method**: This method takes user input and matches it with predefined patterns and returns the chatbot’s response."
      ],
      "metadata": {
        "id": "TCLKGvYNBNSL"
      }
    },
    {
      "cell_type": "code",
      "source": [
        "class RuleBasedChatbot:\n",
        "    def __init__(self, pairs):\n",
        "        self.chat = Chat(pairs, reflections)\n",
        "\n",
        "    def respond(self, user_input):\n",
        "        return self.chat.respond(user_input)"
      ],
      "metadata": {
        "id": "yRR--PjCAWfZ"
      },
      "execution_count": null,
      "outputs": []
    },
    {
      "cell_type": "markdown",
      "source": [
        "**6. Interacting with the Chatbot**\n",
        "\n",
        "Here we create a function that allows users to interact with the chatbot. It keeps asking for input until the user types \"exit\".\n",
        "\n",
        "**Input Loop**: Continuously prompts the user for input and displays the chatbot’s response until \"exit\" is typed."
      ],
      "metadata": {
        "id": "-zo8hsvyCo_R"
      }
    },
    {
      "cell_type": "code",
      "source": [
        "def chat_with_bot():\n",
        "    print(\"Hello, I am your chatbot! Type 'exit' to end the conversation.\")\n",
        "    while True:\n",
        "        user_input = input(\"You: \")\n",
        "        if user_input.lower() == 'exit':\n",
        "            print(\"Chatbot: Goodbye! Have a nice day!\")\n",
        "            break\n",
        "        response = chatbot.respond(user_input)\n",
        "        print(f\"Chatbot: {response}\")"
      ],
      "metadata": {
        "id": "m2uVm6HCCoTM"
      },
      "execution_count": null,
      "outputs": []
    },
    {
      "cell_type": "markdown",
      "source": [
        "**7. Initializing the Chatbot**\n",
        "\n",
        "We instantiate the chatbot class and start the chat."
      ],
      "metadata": {
        "id": "RRpbSDCBC7cV"
      }
    },
    {
      "cell_type": "code",
      "source": [
        "chatbot = RuleBasedChatbot(pairs)\n",
        "chat_with_bot()"
      ],
      "metadata": {
        "colab": {
          "base_uri": "https://localhost:8080/"
        },
        "id": "sQi1XBcHC5o4",
        "outputId": "46f93510-4661-4e1c-e3b5-5a7fbbc464ff"
      },
      "execution_count": null,
      "outputs": [
        {
          "output_type": "stream",
          "name": "stdout",
          "text": [
            "Hello, I am your chatbot! Type 'exit' to end the conversation.\n",
            "You: Hi\n",
            "Chatbot: Hello! How can I help you today?\n",
            "You: My name is pari gupta\n",
            "Chatbot: Hello pari gupta! How can I assist you today?\n",
            "You: tell me a joke\n",
            "Chatbot: Why don't skeletons fight each other? They don't have the guts!\n",
            "You: exit\n",
            "Chatbot: Goodbye! Have a nice day!\n"
          ]
        }
      ]
    },
    {
      "cell_type": "code",
      "source": [],
      "metadata": {
        "id": "6a-WgEJVFRfP"
      },
      "execution_count": null,
      "outputs": []
    }
  ]
}